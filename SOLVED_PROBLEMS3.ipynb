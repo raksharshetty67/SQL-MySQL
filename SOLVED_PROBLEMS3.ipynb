{
 "cells": [
  {
   "cell_type": "markdown",
   "id": "6476032b-939e-40aa-a469-3a6a1af2a6e0",
   "metadata": {},
   "source": [
    "````SQL\n",
    "\n",
    "\n",
    "CREATE TABLE user_activity ( \n",
    "user_id INT, \n",
    "activity_date DATE \n",
    "); \n",
    "\n",
    "INSERT INTO user_activity VALUES \n",
    "(1, '2023-07-05'), (2, '2023-07-10'), (3, '2023-07-15'), \n",
    "(1, '2023-08-03'), (4, '2023-08-08'); \n",
    "\n",
    "SELECT * FROM user_activity;\n",
    "\n",
    "-- 1. Users active last month but not active this month. \n",
    "WITH last_month AS ( \n",
    "SELECT DISTINCT user_id FROM user_activity WHERE MONTH(activity_date) = 7 \n",
    "), \n",
    "this_month AS ( \n",
    "SELECT DISTINCT user_id FROM user_activity WHERE MONTH(activity_date) = 8 \n",
    ") \n",
    "SELECT USER_ID AS churned_users \n",
    "FROM last_month \n",
    "WHERE user_id NOT IN (SELECT user_id FROM this_month);\n",
    "\n",
    "-- 2. PERCENTAGE OF CLICKS OVER IMPRESSIONS\n",
    "CREATE TABLE ad_events ( \n",
    "user_id INT, \n",
    "event_type VARCHAR(20) -- 'impression' or 'click' \n",
    "); -- Insert Data \n",
    "INSERT INTO ad_events VALUES \n",
    "(1, 'impression'), (1, 'click'), (2, 'impression'), \n",
    "(3, 'impression'), (3, 'click');\n",
    "\n",
    "SELECT * FROM ad_events;\n",
    "\n",
    "SELECT User_id,\n",
    "\t(SUM(CASE WHEN event_type = 'Click' THEN 1 ELSE 0 END)/\n",
    "    SUM(CASE WHEN event_type = 'Impression' THEN 1 ELSE 0 END))\n",
    "FROM ad_events \n",
    "Group BY user_id;\n",
    "\n",
    "SELECT  \n",
    "ROUND(100.0 * SUM(CASE WHEN event_type='click' THEN 1 ELSE 0 END) / \n",
    "SUM(CASE WHEN event_type='impression' THEN 1 ELSE 0 END), 2) AS ctr_percentage \n",
    "FROM ad_events; "
   ]
  },
  {
   "cell_type": "code",
   "execution_count": null,
   "id": "e649e64e-2d0b-48b6-bca5-13ba7a452c93",
   "metadata": {},
   "outputs": [],
   "source": []
  }
 ],
 "metadata": {
  "kernelspec": {
   "display_name": "Python 3 (ipykernel)",
   "language": "python",
   "name": "python3"
  },
  "language_info": {
   "codemirror_mode": {
    "name": "ipython",
    "version": 3
   },
   "file_extension": ".py",
   "mimetype": "text/x-python",
   "name": "python",
   "nbconvert_exporter": "python",
   "pygments_lexer": "ipython3",
   "version": "3.11.7"
  },
  "widgets": {
   "application/vnd.jupyter.widget-state+json": {
    "state": {},
    "version_major": 2,
    "version_minor": 0
   }
  }
 },
 "nbformat": 4,
 "nbformat_minor": 5
}
